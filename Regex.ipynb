{
 "cells": [
  {
   "cell_type": "code",
   "execution_count": 21,
   "metadata": {},
   "outputs": [],
   "source": [
    "import re"
   ]
  },
  {
   "cell_type": "markdown",
   "metadata": {},
   "source": [
    "* rechercher en debut de chaine ^\n",
    "ex:^chat\n",
    "* matérialiser la fin de la chaîne, vous utiliserez le signe $\n",
    "Les caractères spéciaux que nous allons découvrir permettent de contrôler le nombre de fois où notre expression apparaît dans notre chaîne.\n",
    "* nombre d'occurences\n",
    "ex chat*\n",
    "\n",
    "https://openclassrooms.com/fr/courses/235344-apprenez-a-programmer-en-python/233857-manipulez-les-expressions-regulieres#/id/r-2234183\n"
   ]
  },
  {
   "cell_type": "code",
   "execution_count": 22,
   "metadata": {},
   "outputs": [
    {
     "data": {
      "text/plain": [
       "'\\\\n'"
      ]
     },
     "execution_count": 22,
     "metadata": {},
     "output_type": "execute_result"
    }
   ],
   "source": [
    "#prooblème d'antislash dans les regex on utilise r devant le délimiteur\n",
    "r'\\n'"
   ]
  },
  {
   "cell_type": "code",
   "execution_count": 23,
   "metadata": {},
   "outputs": [
    {
     "data": {
      "text/plain": [
       "<re.Match object; span=(0, 4), match='chat'>"
      ]
     },
     "execution_count": 23,
     "metadata": {},
     "output_type": "execute_result"
    }
   ],
   "source": [
    "#fonction search\n",
    "re.search(r\"abc\",\"abcdef\")\n",
    "re.search(r\"abc\",\"abacadaeaf\")\n",
    "re.search(r\"abc*\", \"ab\")\n",
    "re.search(r\"abc*\",\"abccc\")\n",
    "re.search(r\"chat*\",\"chateau\")"
   ]
  },
  {
   "cell_type": "code",
   "execution_count": 24,
   "metadata": {},
   "outputs": [
    {
     "name": "stdout",
     "output_type": "stream",
     "text": [
      "Saisissez un numéro de télephone (valide):0649625916\n"
     ]
    }
   ],
   "source": [
    "chaine=\"\"\n",
    "expression = r\"^0[0-9]([ .-]?[0-9]{2}){4}$\"\n",
    "while re.search(expression, chaine) is None:\n",
    "    chaine = input(\"Saisissez un numéro de télephone (valide):\")\n"
   ]
  },
  {
   "cell_type": "markdown",
   "metadata": {},
   "source": [
    "## remplacement\n",
    "*Pour remplacer une partie d'une chaîne de caractères sur la base d'une regex, nous allons utiliser la fonctionsubdu modulere.\n",
    "\n",
    "Elle prend trois paramètres :\n",
    "\n",
    "l'expression à rechercher ;\n",
    "\n",
    "par quoi remplacer cette expression ;\n",
    "\n",
    "la chaîne d'origine.\n",
    "\n",
    "Elle renvoie la chaîne modifiée.\n"
   ]
  },
  {
   "cell_type": "code",
   "execution_count": 25,
   "metadata": {},
   "outputs": [
    {
     "data": {
      "text/plain": [
       "' ab cdef'"
      ]
     },
     "execution_count": 25,
     "metadata": {},
     "output_type": "execute_result"
    }
   ],
   "source": [
    "#groupe numérotés\n",
    "#\\1 signifie le premier groupe\n",
    "re.sub(r\"(ab)\",r\" \\1 \",\"abcdef\")\n"
   ]
  },
  {
   "cell_type": "code",
   "execution_count": 26,
   "metadata": {},
   "outputs": [
    {
     "name": "stdout",
     "output_type": "stream",
     "text": [
      "\n",
      "nom='Task1',id[8]\n",
      "nom='Task2',id[31]\n",
      "nom='Task3',id[127]\n",
      "\n"
     ]
    }
   ],
   "source": [
    "#donner des noms à des groupes\n",
    "texte = \"\"\"\n",
    "nom='Task1',id=8\n",
    "nom='Task2',id=31\n",
    "nom='Task3',id=127\n",
    "\"\"\"\n",
    "print(re.sub(r\"id=(?P<id>[0-9]+)\",r\"id[\\g<id>]\",texte))"
   ]
  },
  {
   "cell_type": "markdown",
   "metadata": {},
   "source": [
    "###### des expressions compilées\n",
    "^[A-Za-z0-9]{6,}$"
   ]
  },
  {
   "cell_type": "markdown",
   "metadata": {},
   "source": [
    "### Exo Regex\n",
    "\n",
    "Écrire des fonctions Python renvoyant à partir du texte ci-dessous :\n",
    "\n",
    "\n",
    "\t\n",
    " *Les mots de plus de 12 caractères \n",
    "\t *Les emails  \n",
    "\t *Les emails en « orange.fr »\n",
    "\t *Les liens\n",
    "\t *Les numéros de téléphone français\n",
    "\t *Les adresse IP \n",
    "\t *Les dates au format « 31 mars » \n",
    "\t *La succession de deux mots identiques\n",
    "\t *Les sigles\n",
    "\t *La succession d’expressions (2 mots ou plus) identiques\n",
    "\t *Les questions"
   ]
  },
  {
   "cell_type": "code",
   "execution_count": 27,
   "metadata": {},
   "outputs": [],
   "source": [
    "email = \"\"\"    \n",
    "Xavier, \n",
    "\n",
    "Comme je te l’indiquais par téléphone, nous nous sommes lancés dans le développement d’une nouvelle application d’analyse d’e-mails.\n",
    "Ce développement a commencé le 2 mars et devrait se terminer fin mai. Son nom interne est « NOLPMIS 78.77.4 ».\n",
    "Même si Sophie (sophie@simplon.co) sera plus à même de t’expliquer le fonctionnement technique de l’app, je peux te le résumer en quelques mots :\n",
    "Nous nous connectons au serveur d’emails d’un service Orange et récupérons l’ensemble des données entrantes sur le port 7750 (172.16.254.1)\n",
    "Nous les stockons sur nos serveurs, dans une base NoSQL de type MongoDB https://www.mongodb.co\n",
    "Le soir, nous les analysons à partir de nos modèles de ML, et nous les séparons en deux types : les emails professionnels, et les emails non professionnels. Ne me demande pas comment ça marche, mais ça marche.Chacun matin, un rapport est envoyé au chef de service indiquant quelles sont les personnes qui ont traité des sujets non professionnels sur leur journée de travail de la veille\n",
    "J’ai essayé de demander à Stéphane s’il pensait que nous avions le droit de faire ceci. Je l’ai appelé le 25 avril au 06 78 45 11 45, mais il ne répond pas. A-t-il changé de numéro ?\n",
    "Une data scientist de l’équipe me dit que le RGPD risque de nous poser problème. Elle affirme même que c’est anticonstitutionnel ! Je pense pourtant que dans un cadre professionnel, cela relève plus du bon sens.   \n",
    "Tu me connais, j’ai quand même voulu me renseigner. Sur le site de la CNIL : cnil.fr/, ce n’est pas du tout du tout clair…\n",
    "Peux-tu me rappeler ? J’ai vraiment besoin de ton avis sur le sujet.\n",
    "Bien à toi,\n",
    "Antoine Dupont - antoine.dupont@orange.fr\n",
    "Orange - Division 064578124\n",
    "Chef de l’innovation & de l’identité numérique\n",
    "\n",
    "Coronavirus : Il existe des gestes simples pour vous protéger et protéger votre entourage\n",
    "\n",
    "Plus d’informations sur gouvernement.fr\n",
    "\"\"\""
   ]
  },
  {
   "cell_type": "code",
   "execution_count": 32,
   "metadata": {},
   "outputs": [
    {
     "name": "stdout",
     "output_type": "stream",
     "text": [
      "<re.Match object; span=(329, 341), match='fonctionneme'>\n"
     ]
    }
   ],
   "source": [
    "#def motplus12carac(text):\n",
    "result = re.search(r\"[A-Za-z]{12}\",email)\n",
    "print(result)"
   ]
  },
  {
   "cell_type": "code",
   "execution_count": 34,
   "metadata": {},
   "outputs": [],
   "source": [
    "def motplusde12caract(text):\n",
    "    r1= re.findall(r\"[A-Za-z]{12}\",text)\n",
    "    return print(r1)"
   ]
  },
  {
   "cell_type": "code",
   "execution_count": 35,
   "metadata": {},
   "outputs": [
    {
     "name": "stdout",
     "output_type": "stream",
     "text": [
      "['fonctionneme', 'professionne', 'professionne', 'professionne', 'anticonstitu', 'professionne', 'informations', 'gouvernement']\n"
     ]
    }
   ],
   "source": [
    "motplusde12caract(email)"
   ]
  },
  {
   "cell_type": "code",
   "execution_count": 41,
   "metadata": {},
   "outputs": [],
   "source": [
    "def emailorange(text):\n",
    "    r2 =re.findall(r\"[\\w\\.-]+@[orange.fr]+\",text)\n",
    "    return print(r2)"
   ]
  },
  {
   "cell_type": "code",
   "execution_count": 42,
   "metadata": {},
   "outputs": [
    {
     "name": "stdout",
     "output_type": "stream",
     "text": [
      "['antoine.dupont@orange.fr']\n"
     ]
    }
   ],
   "source": [
    "emailorange(email)"
   ]
  },
  {
   "cell_type": "code",
   "execution_count": 57,
   "metadata": {},
   "outputs": [
    {
     "name": "stdout",
     "output_type": "stream",
     "text": [
      "['https://www.mongodb.co']\n"
     ]
    }
   ],
   "source": [
    "def liens(text)\n",
    "    r3= re.findall(r\"https?://(?:[-\\w.]|(?:%[\\da-fA-F]{2}))+\",text)\n",
    "    return print(r3)"
   ]
  },
  {
   "cell_type": "code",
   "execution_count": 58,
   "metadata": {},
   "outputs": [],
   "source": [
    "#def numfra(text):\n",
    "    #r3 = re.findall(r\"^0[0-9]([ .-]?[0-9]{2}){4}$\",text)\n",
    "    #print(r3)"
   ]
  },
  {
   "cell_type": "code",
   "execution_count": 59,
   "metadata": {},
   "outputs": [
    {
     "name": "stdout",
     "output_type": "stream",
     "text": [
      "[]\n"
     ]
    }
   ],
   "source": [
    "#numfra(email)"
   ]
  },
  {
   "cell_type": "code",
   "execution_count": 78,
   "metadata": {},
   "outputs": [],
   "source": [
    "def numfra(text):\n",
    "    r3 = re.findall(r\"0\\d\\s?\\d\\d\\s?\\d\\d\\s?\\d\\d\\s?\\d\\d\\s?\",text)\n",
    "    return print(r3)"
   ]
  },
  {
   "cell_type": "code",
   "execution_count": 80,
   "metadata": {},
   "outputs": [
    {
     "name": "stdout",
     "output_type": "stream",
     "text": [
      "['06 78 45 11 45']\n"
     ]
    }
   ],
   "source": [
    "numfra(email)"
   ]
  },
  {
   "cell_type": "code",
   "execution_count": 124,
   "metadata": {},
   "outputs": [
    {
     "name": "stdout",
     "output_type": "stream",
     "text": [
      "[('77.', '4'), ('775', '0'), ('.25', '4'), ('578', '124')]\n"
     ]
    }
   ],
   "source": [
    "#def ipadress(text):\n",
    "r4= re.findall(r\"([\\d{1,3}\\.]{3})+(\\d{1,3})\",email)\n",
    "print(r4)\n"
   ]
  },
  {
   "cell_type": "code",
   "execution_count": 112,
   "metadata": {},
   "outputs": [],
   "source": [
    "def get_IPs(text):\n",
    "    \"\"\"Adresses IP\"\"\"\n",
    "    return re.findall(r\"\\d+\\.\\d+\\.\\d+\\.\\d+\", text)"
   ]
  },
  {
   "cell_type": "code",
   "execution_count": 114,
   "metadata": {},
   "outputs": [
    {
     "data": {
      "text/plain": [
       "['172.16.254.1']"
      ]
     },
     "execution_count": 114,
     "metadata": {},
     "output_type": "execute_result"
    }
   ],
   "source": [
    "get_IPs(email)"
   ]
  },
  {
   "cell_type": "code",
   "execution_count": 129,
   "metadata": {},
   "outputs": [
    {
     "name": "stdout",
     "output_type": "stream",
     "text": [
      "['2 mars']\n"
     ]
    }
   ],
   "source": [
    "#def dates:\n",
    "r5 = re.findall(r\"[1-31] janvier|[1-31] février|[1-31] mars|[1-31] avril|[1-31] mai|[1-31] juin|[1-31] juillet |[1-31] août|[1-31] septembre|[1-]\",email)    \n",
    "print(r5)"
   ]
  },
  {
   "cell_type": "code",
   "execution_count": null,
   "metadata": {},
   "outputs": [],
   "source": []
  }
 ],
 "metadata": {
  "kernelspec": {
   "display_name": "Python 3",
   "language": "python",
   "name": "python3"
  },
  "language_info": {
   "codemirror_mode": {
    "name": "ipython",
    "version": 3
   },
   "file_extension": ".py",
   "mimetype": "text/x-python",
   "name": "python",
   "nbconvert_exporter": "python",
   "pygments_lexer": "ipython3",
   "version": "3.7.7"
  }
 },
 "nbformat": 4,
 "nbformat_minor": 4
}

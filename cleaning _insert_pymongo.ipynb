{
 "cells": [
  {
   "cell_type": "code",
   "execution_count": 37,
   "metadata": {},
   "outputs": [
    {
     "data": {
      "text/plain": [
       "MongoClient(host=['localhost:27017'], document_class=dict, tz_aware=False, connect=True)"
      ]
     },
     "execution_count": 37,
     "metadata": {},
     "output_type": "execute_result"
    }
   ],
   "source": [
    "from pymongo import MongoClient\n",
    "## pprint library is used to make the ouput more pretty\n",
    "from pprint import pprint\n",
    "#connect to MongoDB, change the << MONGODB URL >> to reflect your own connection string\n",
    "client = MongoClient()\n",
    "client "
   ]
  },
  {
   "cell_type": "code",
   "execution_count": 38,
   "metadata": {},
   "outputs": [
    {
     "data": {
      "text/plain": [
       "Collection(Database(MongoClient(host=['localhost:27017'], document_class=dict, tz_aware=False, connect=True), 'basededonnee'), 'test_collection')"
      ]
     },
     "execution_count": 38,
     "metadata": {},
     "output_type": "execute_result"
    }
   ],
   "source": [
    "db = client.basededonnee\n",
    "collection = db.test_collection\n",
    "db\n",
    "collection"
   ]
  },
  {
   "cell_type": "code",
   "execution_count": 39,
   "metadata": {},
   "outputs": [],
   "source": [
    "#kaggle dataset pour importer le csv de mails\n",
    "import kaggle\n",
    "kaggle.api.authenticate()\n",
    "kaggle.api.dataset_download_files('wcukierski/enron-email-dataset')"
   ]
  },
  {
   "cell_type": "markdown",
   "metadata": {},
   "source": [
    "## loading the data"
   ]
  },
  {
   "cell_type": "code",
   "execution_count": 40,
   "metadata": {},
   "outputs": [],
   "source": [
    "#essai de voir les datas et les mettre dans un dataframe\n",
    "import pandas as pd"
   ]
  },
  {
   "cell_type": "code",
   "execution_count": 41,
   "metadata": {},
   "outputs": [
    {
     "data": {
      "text/plain": [
       "(517401, 2)"
      ]
     },
     "execution_count": 41,
     "metadata": {},
     "output_type": "execute_result"
    }
   ],
   "source": [
    "df = pd.read_csv('enron-email-dataset/emails.csv')\n",
    "df.shape"
   ]
  },
  {
   "cell_type": "code",
   "execution_count": 54,
   "metadata": {},
   "outputs": [
    {
     "name": "stdout",
     "output_type": "stream",
     "text": [
      "Message-ID: <13505866.1075863688222.JavaMail.evans@thyme>\n",
      "Date: Mon, 23 Oct 2000 06:13:00 -0700 (PDT)\n",
      "From: phillip.allen@enron.com\n",
      "To: randall.gay@enron.com\n",
      "Subject: \n",
      "Mime-Version: 1.0\n",
      "Content-Type: text/plain; charset=us-ascii\n",
      "Content-Transfer-Encoding: 7bit\n",
      "X-From: Phillip K Allen\n",
      "X-To: Randall L Gay\n",
      "X-cc: \n",
      "X-bcc: \n",
      "X-Folder: \\Phillip_Allen_Dec2000\\Notes Folders\\'sent mail\n",
      "X-Origin: Allen-P\n",
      "X-FileName: pallen.nsf\n",
      "\n",
      "Randy,\n",
      "\n",
      " Can you send me a schedule of the salary and level of everyone in the \n",
      "scheduling group.  Plus your thoughts on any changes that need to be made.  \n",
      "(Patti S for example)\n",
      "\n",
      "Phillip\n"
     ]
    }
   ],
   "source": [
    "#explore one message\n",
    "df.head(5)\n",
    "print(df['message'][3])"
   ]
  },
  {
   "cell_type": "code",
   "execution_count": 58,
   "metadata": {},
   "outputs": [
    {
     "data": {
      "text/html": [
       "<div>\n",
       "<style scoped>\n",
       "    .dataframe tbody tr th:only-of-type {\n",
       "        vertical-align: middle;\n",
       "    }\n",
       "\n",
       "    .dataframe tbody tr th {\n",
       "        vertical-align: top;\n",
       "    }\n",
       "\n",
       "    .dataframe thead th {\n",
       "        text-align: right;\n",
       "    }\n",
       "</style>\n",
       "<table border=\"1\" class=\"dataframe\">\n",
       "  <thead>\n",
       "    <tr style=\"text-align: right;\">\n",
       "      <th></th>\n",
       "      <th>file</th>\n",
       "      <th>message</th>\n",
       "    </tr>\n",
       "  </thead>\n",
       "  <tbody>\n",
       "    <tr>\n",
       "      <th>0</th>\n",
       "      <td>allen-p/_sent_mail/1.</td>\n",
       "      <td>Message-ID: &lt;18782981.1075855378110.JavaMail.e...</td>\n",
       "    </tr>\n",
       "    <tr>\n",
       "      <th>1</th>\n",
       "      <td>allen-p/_sent_mail/10.</td>\n",
       "      <td>Message-ID: &lt;15464986.1075855378456.JavaMail.e...</td>\n",
       "    </tr>\n",
       "    <tr>\n",
       "      <th>2</th>\n",
       "      <td>allen-p/_sent_mail/100.</td>\n",
       "      <td>Message-ID: &lt;24216240.1075855687451.JavaMail.e...</td>\n",
       "    </tr>\n",
       "    <tr>\n",
       "      <th>3</th>\n",
       "      <td>allen-p/_sent_mail/1000.</td>\n",
       "      <td>Message-ID: &lt;13505866.1075863688222.JavaMail.e...</td>\n",
       "    </tr>\n",
       "    <tr>\n",
       "      <th>4</th>\n",
       "      <td>allen-p/_sent_mail/1001.</td>\n",
       "      <td>Message-ID: &lt;30922949.1075863688243.JavaMail.e...</td>\n",
       "    </tr>\n",
       "  </tbody>\n",
       "</table>\n",
       "</div>"
      ],
      "text/plain": [
       "                       file                                            message\n",
       "0     allen-p/_sent_mail/1.  Message-ID: <18782981.1075855378110.JavaMail.e...\n",
       "1    allen-p/_sent_mail/10.  Message-ID: <15464986.1075855378456.JavaMail.e...\n",
       "2   allen-p/_sent_mail/100.  Message-ID: <24216240.1075855687451.JavaMail.e...\n",
       "3  allen-p/_sent_mail/1000.  Message-ID: <13505866.1075863688222.JavaMail.e...\n",
       "4  allen-p/_sent_mail/1001.  Message-ID: <30922949.1075863688243.JavaMail.e..."
      ]
     },
     "execution_count": 58,
     "metadata": {},
     "output_type": "execute_result"
    }
   ],
   "source": [
    "pd.set_option('display.max_columns',len(df.columns))\n",
    "df.head()"
   ]
  },
  {
   "cell_type": "code",
   "execution_count": 61,
   "metadata": {},
   "outputs": [
    {
     "data": {
      "text/plain": [
       "517401"
      ]
     },
     "execution_count": 61,
     "metadata": {},
     "output_type": "execute_result"
    }
   ],
   "source": [
    "## missing values or duplicate\n",
    "df.isnull().count()\n",
    "df.duplicated().count()"
   ]
  },
  {
   "cell_type": "markdown",
   "metadata": {},
   "source": [
    "## cleaning\n"
   ]
  },
  {
   "cell_type": "code",
   "execution_count": 78,
   "metadata": {},
   "outputs": [
    {
     "name": "stdout",
     "output_type": "stream",
     "text": [
      "0         Message-ID: <18782981.1075855378110.JavaMail.e...\n",
      "1         Message-ID: <15464986.1075855378456.JavaMail.e...\n",
      "2         Message-ID: <24216240.1075855687451.JavaMail.e...\n",
      "3         Message-ID: <13505866.1075863688222.JavaMail.e...\n",
      "4         Message-ID: <30922949.1075863688243.JavaMail.e...\n",
      "                                ...                        \n",
      "517396    Message-ID: <26807948.1075842029936.JavaMail.e...\n",
      "517397    Message-ID: <25835861.1075842029959.JavaMail.e...\n",
      "517398    Message-ID: <28979867.1075842029988.JavaMail.e...\n",
      "517399    Message-ID: <22052556.1075842030013.JavaMail.e...\n",
      "517400    Message-ID: <28618979.1075842030037.JavaMail.e...\n",
      "Name: message, Length: 517401, dtype: object\n",
      "Date: Mon, 26 Nov 2001 10:48:43 -0800 (PST)\n"
     ]
    }
   ],
   "source": [
    "\n",
    "#def get_text(Series, row_num_slicer):\n",
    "#\"return a serie with text sliced from a list split\"\n",
    "result = df.message\n",
    "print(result)\n",
    "#split the message when we go to an other line\n",
    "for row , message in enumerate(df.message):\n",
    "    message_words = message.split('\\n')\n",
    "    #print(message_words)\n",
    "    #my message is splitted\n",
    "    #print(message_words[2])\n",
    "print(message_words[1])\n",
    "    "
   ]
  },
  {
   "cell_type": "code",
   "execution_count": 85,
   "metadata": {},
   "outputs": [],
   "source": [
    "## make a function that get only the text\n",
    "def get_text(Series):\n",
    "    \n",
    "    \"\"\"\n",
    "    Series: df series\n",
    "    Row_num_slicer: number of row that we have sliced\n",
    "    return a Serie with text sliced that we split for each message\n",
    "    \n",
    "    \"\"\"\n",
    "    result = pd.Series()\n",
    "    for row, message in enumerate(Series):\n",
    "        message_words = message.split('\\n')\n",
    "        \n",
    "    return message_words\n",
    "        \n",
    "    "
   ]
  },
  {
   "cell_type": "code",
   "execution_count": 96,
   "metadata": {},
   "outputs": [],
   "source": [
    "#separate info and content parts \n",
    "def info_part(i):\n",
    "    \"\"\"\n",
    "    split the message in 2 part \n",
    "    the maxsplit parameter to 1, will return a list with 2 elements\n",
    "    return the info text parsing \n",
    "    \"\"\"\n",
    "    return i.split('\\n\\n', 1)[0]\n"
   ]
  },
  {
   "cell_type": "code",
   "execution_count": 97,
   "metadata": {},
   "outputs": [],
   "source": [
    "def content_part(i):\n",
    "    \"\"\"\n",
    "    return the content part out\n",
    "    \"\"\"\n",
    "    return i.split('\\n\\n',1)[1]"
   ]
  },
  {
   "cell_type": "markdown",
   "metadata": {},
   "source": [
    "### new method"
   ]
  },
  {
   "cell_type": "code",
   "execution_count": 113,
   "metadata": {},
   "outputs": [],
   "source": [
    "import re"
   ]
  },
  {
   "cell_type": "code",
   "execution_count": 108,
   "metadata": {},
   "outputs": [],
   "source": [
    "emaildf= pd.read_csv('enron-email-dataset/emails.csv')"
   ]
  },
  {
   "cell_type": "code",
   "execution_count": 110,
   "metadata": {
    "collapsed": true
   },
   "outputs": [
    {
     "data": {
      "text/plain": [
       "(517401, 2)"
      ]
     },
     "execution_count": 110,
     "metadata": {},
     "output_type": "execute_result"
    }
   ],
   "source": [
    "emaildf.shape"
   ]
  },
  {
   "cell_type": "code",
   "execution_count": 111,
   "metadata": {},
   "outputs": [],
   "source": [
    "#get metadata headers\n",
    "#je split en 2 \n",
    "headers = [email.split(': ', 1)[0] for email in emaildf.iloc[0]['message'].split('\\n')[:15]]"
   ]
  },
  {
   "cell_type": "code",
   "execution_count": 112,
   "metadata": {
    "collapsed": true
   },
   "outputs": [
    {
     "name": "stdout",
     "output_type": "stream",
     "text": [
      "['Message-ID', 'Date', 'From', 'To', 'Subject', 'Mime-Version', 'Content-Type', 'Content-Transfer-Encoding', 'X-From', 'X-To', 'X-cc', 'X-bcc', 'X-Folder', 'X-Origin', 'X-FileName']\n"
     ]
    }
   ],
   "source": [
    "print(headers)"
   ]
  },
  {
   "cell_type": "code",
   "execution_count": 114,
   "metadata": {},
   "outputs": [],
   "source": [
    "#create a new column for every meta-data\n",
    "for header in headers:\n",
    "    emaildf[header]= emaildf.apply(lambda email : re.findall(rf'{header}:(.*)\\n',email['message'])[0], axis=1) "
   ]
  },
  {
   "cell_type": "code",
   "execution_count": 127,
   "metadata": {},
   "outputs": [
    {
     "data": {
      "text/html": [
       "<div>\n",
       "<style scoped>\n",
       "    .dataframe tbody tr th:only-of-type {\n",
       "        vertical-align: middle;\n",
       "    }\n",
       "\n",
       "    .dataframe tbody tr th {\n",
       "        vertical-align: top;\n",
       "    }\n",
       "\n",
       "    .dataframe thead th {\n",
       "        text-align: right;\n",
       "    }\n",
       "</style>\n",
       "<table border=\"1\" class=\"dataframe\">\n",
       "  <thead>\n",
       "    <tr style=\"text-align: right;\">\n",
       "      <th></th>\n",
       "      <th>file</th>\n",
       "      <th>...</th>\n",
       "      <th>X-FileName</th>\n",
       "    </tr>\n",
       "  </thead>\n",
       "  <tbody>\n",
       "    <tr>\n",
       "      <th>0</th>\n",
       "      <td>allen-p/_sent_mail/1.</td>\n",
       "      <td>...</td>\n",
       "      <td>pallen (Non-Privileged).pst</td>\n",
       "    </tr>\n",
       "    <tr>\n",
       "      <th>1</th>\n",
       "      <td>allen-p/_sent_mail/10.</td>\n",
       "      <td>...</td>\n",
       "      <td>pallen (Non-Privileged).pst</td>\n",
       "    </tr>\n",
       "    <tr>\n",
       "      <th>2</th>\n",
       "      <td>allen-p/_sent_mail/100.</td>\n",
       "      <td>...</td>\n",
       "      <td>pallen.nsf</td>\n",
       "    </tr>\n",
       "    <tr>\n",
       "      <th>3</th>\n",
       "      <td>allen-p/_sent_mail/1000.</td>\n",
       "      <td>...</td>\n",
       "      <td>pallen.nsf</td>\n",
       "    </tr>\n",
       "    <tr>\n",
       "      <th>4</th>\n",
       "      <td>allen-p/_sent_mail/1001.</td>\n",
       "      <td>...</td>\n",
       "      <td>pallen.nsf</td>\n",
       "    </tr>\n",
       "  </tbody>\n",
       "</table>\n",
       "<p>5 rows × 17 columns</p>\n",
       "</div>"
      ],
      "text/plain": [
       "                       file  ...                    X-FileName\n",
       "0     allen-p/_sent_mail/1.  ...   pallen (Non-Privileged).pst\n",
       "1    allen-p/_sent_mail/10.  ...   pallen (Non-Privileged).pst\n",
       "2   allen-p/_sent_mail/100.  ...                    pallen.nsf\n",
       "3  allen-p/_sent_mail/1000.  ...                    pallen.nsf\n",
       "4  allen-p/_sent_mail/1001.  ...                    pallen.nsf\n",
       "\n",
       "[5 rows x 17 columns]"
      ]
     },
     "execution_count": 127,
     "metadata": {},
     "output_type": "execute_result"
    }
   ],
   "source": [
    "emaildf.head()"
   ]
  },
  {
   "cell_type": "code",
   "execution_count": 129,
   "metadata": {},
   "outputs": [],
   "source": [
    "#add email's content to a new column\n",
    "emaildf['Body']= emaildf.apply(lambda email : ''.join(re.findall('\\n\\n(.*)', email['message'])),axis=1)"
   ]
  },
  {
   "cell_type": "code",
   "execution_count": 131,
   "metadata": {
    "collapsed": true
   },
   "outputs": [
    {
     "data": {
      "text/plain": [
       "\"Traveling to have a business meeting takes the fun out of the trip.  Especially if you have to prepare a presentation.  I would suggest holding the business plan meetings here then take a trip without any formal business meetings.  I would even try and get some honest opinions on whether a trip is even desired or necessary.As far as the business meetings, I think it would be more productive to try and stimulate discussions across the different groups about what is working and what is not.  Too often the presenter speaks and the others are quiet just waiting for their turn.   The meetings might be better if held in a round table discussion format.  My suggestion for where to go is Austin.  Play golf and rent a ski boat and jet ski's.  Flying somewhere takes too much time.\""
      ]
     },
     "execution_count": 131,
     "metadata": {},
     "output_type": "execute_result"
    }
   ],
   "source": [
    "emaildf['Body'][1]"
   ]
  },
  {
   "cell_type": "code",
   "execution_count": 132,
   "metadata": {},
   "outputs": [],
   "source": [
    "#now that we have a column for eachmetadat drop the \"message\" column\n",
    "emaildf.drop(['message'], axis=1, inplace = True)"
   ]
  },
  {
   "cell_type": "markdown",
   "metadata": {},
   "source": [
    "## put data on a database"
   ]
  },
  {
   "cell_type": "code",
   "execution_count": 138,
   "metadata": {},
   "outputs": [
    {
     "data": {
      "text/plain": [
       "<pymongo.results.InsertManyResult at 0x195268a48>"
      ]
     },
     "execution_count": 138,
     "metadata": {},
     "output_type": "execute_result"
    }
   ],
   "source": [
    "#put the datas on Mongodb\n",
    "#connect to mongoDB\n",
    "from pymongo import MongoClient\n",
    "client = MongoClient(port=27017)\n",
    "\n",
    "#create database/collection\n",
    "db= client.basededonnee\n",
    "db.emails.drop()\n",
    "collection = db['eron']\n",
    "#transform dataframe to dictionnary\n",
    "records_=emaildf.to_dict(orient='records')\n",
    "#add many records\n",
    "collection.insert_many(records_)"
   ]
  },
  {
   "cell_type": "code",
   "execution_count": 139,
   "metadata": {},
   "outputs": [
    {
     "data": {
      "text/plain": [
       "{'_id': ObjectId('5e85b619affa6f27d9071cfa'),\n",
       " 'file': 'allen-p/_sent_mail/1.',\n",
       " 'Message-ID': ' <18782981.1075855378110.JavaMail.evans@thyme>',\n",
       " 'Date': ' Mon, 14 May 2001 16:39:00 -0700 (PDT)',\n",
       " 'From': ' phillip.allen@enron.com',\n",
       " 'To': ' tim.belden@enron.com',\n",
       " 'Subject': ' ',\n",
       " 'Mime-Version': ' 1.0',\n",
       " 'Content-Type': ' text/plain; charset=us-ascii',\n",
       " 'Content-Transfer-Encoding': ' 7bit',\n",
       " 'X-From': ' Phillip K Allen',\n",
       " 'X-To': ' Tim Belden <Tim Belden/Enron@EnronXGate>',\n",
       " 'X-cc': ' ',\n",
       " 'X-bcc': ' ',\n",
       " 'X-Folder': \" \\\\Phillip_Allen_Jan2002_1\\\\Allen, Phillip K.\\\\'Sent Mail\",\n",
       " 'X-Origin': ' Allen-P',\n",
       " 'X-FileName': ' pallen (Non-Privileged).pst',\n",
       " 'Body': 'Here is our forecast '}"
      ]
     },
     "execution_count": 139,
     "metadata": {},
     "output_type": "execute_result"
    }
   ],
   "source": [
    "#getting a single document\n",
    "collection.find_one()"
   ]
  },
  {
   "cell_type": "markdown",
   "metadata": {},
   "source": [
    "## BAG OF WORDS"
   ]
  },
  {
   "cell_type": "code",
   "execution_count": 143,
   "metadata": {},
   "outputs": [],
   "source": [
    "#make a subdataset with 3000 rows\n",
    "new_df = emaildf.iloc[:3000]\n"
   ]
  },
  {
   "cell_type": "code",
   "execution_count": 144,
   "metadata": {
    "collapsed": true
   },
   "outputs": [
    {
     "data": {
      "text/plain": [
       "(3000, 17)"
      ]
     },
     "execution_count": 144,
     "metadata": {},
     "output_type": "execute_result"
    }
   ],
   "source": [
    "new_df.shape"
   ]
  },
  {
   "cell_type": "code",
   "execution_count": 145,
   "metadata": {
    "collapsed": true
   },
   "outputs": [
    {
     "data": {
      "text/html": [
       "<div>\n",
       "<style scoped>\n",
       "    .dataframe tbody tr th:only-of-type {\n",
       "        vertical-align: middle;\n",
       "    }\n",
       "\n",
       "    .dataframe tbody tr th {\n",
       "        vertical-align: top;\n",
       "    }\n",
       "\n",
       "    .dataframe thead th {\n",
       "        text-align: right;\n",
       "    }\n",
       "</style>\n",
       "<table border=\"1\" class=\"dataframe\">\n",
       "  <thead>\n",
       "    <tr style=\"text-align: right;\">\n",
       "      <th></th>\n",
       "      <th>file</th>\n",
       "      <th>...</th>\n",
       "      <th>Body</th>\n",
       "    </tr>\n",
       "  </thead>\n",
       "  <tbody>\n",
       "    <tr>\n",
       "      <th>0</th>\n",
       "      <td>allen-p/_sent_mail/1.</td>\n",
       "      <td>...</td>\n",
       "      <td>Here is our forecast</td>\n",
       "    </tr>\n",
       "    <tr>\n",
       "      <th>1</th>\n",
       "      <td>allen-p/_sent_mail/10.</td>\n",
       "      <td>...</td>\n",
       "      <td>Traveling to have a business meeting takes the...</td>\n",
       "    </tr>\n",
       "    <tr>\n",
       "      <th>2</th>\n",
       "      <td>allen-p/_sent_mail/100.</td>\n",
       "      <td>...</td>\n",
       "      <td>test successful.  way to go!!!</td>\n",
       "    </tr>\n",
       "    <tr>\n",
       "      <th>3</th>\n",
       "      <td>allen-p/_sent_mail/1000.</td>\n",
       "      <td>...</td>\n",
       "      <td>Randy, Can you send me a schedule of the salar...</td>\n",
       "    </tr>\n",
       "    <tr>\n",
       "      <th>4</th>\n",
       "      <td>allen-p/_sent_mail/1001.</td>\n",
       "      <td>...</td>\n",
       "      <td>Let's shoot for Tuesday at 11:45.</td>\n",
       "    </tr>\n",
       "  </tbody>\n",
       "</table>\n",
       "<p>5 rows × 17 columns</p>\n",
       "</div>"
      ],
      "text/plain": [
       "                       file  ...  \\\n",
       "0     allen-p/_sent_mail/1.  ...   \n",
       "1    allen-p/_sent_mail/10.  ...   \n",
       "2   allen-p/_sent_mail/100.  ...   \n",
       "3  allen-p/_sent_mail/1000.  ...   \n",
       "4  allen-p/_sent_mail/1001.  ...   \n",
       "\n",
       "                                                Body  \n",
       "0                              Here is our forecast   \n",
       "1  Traveling to have a business meeting takes the...  \n",
       "2                     test successful.  way to go!!!  \n",
       "3  Randy, Can you send me a schedule of the salar...  \n",
       "4                Let's shoot for Tuesday at 11:45.    \n",
       "\n",
       "[5 rows x 17 columns]"
      ]
     },
     "execution_count": 145,
     "metadata": {},
     "output_type": "execute_result"
    }
   ],
   "source": [
    "new_df.head(5)"
   ]
  },
  {
   "cell_type": "code",
   "execution_count": 146,
   "metadata": {
    "collapsed": true
   },
   "outputs": [
    {
     "data": {
      "text/html": [
       "<div>\n",
       "<style scoped>\n",
       "    .dataframe tbody tr th:only-of-type {\n",
       "        vertical-align: middle;\n",
       "    }\n",
       "\n",
       "    .dataframe tbody tr th {\n",
       "        vertical-align: top;\n",
       "    }\n",
       "\n",
       "    .dataframe thead th {\n",
       "        text-align: right;\n",
       "    }\n",
       "</style>\n",
       "<table border=\"1\" class=\"dataframe\">\n",
       "  <thead>\n",
       "    <tr style=\"text-align: right;\">\n",
       "      <th></th>\n",
       "      <th>file</th>\n",
       "      <th>...</th>\n",
       "      <th>Body</th>\n",
       "    </tr>\n",
       "  </thead>\n",
       "  <tbody>\n",
       "    <tr>\n",
       "      <th>2995</th>\n",
       "      <td>allen-p/sent/76.</td>\n",
       "      <td>...</td>\n",
       "      <td>---------------------- Forwarded by Phillip K ...</td>\n",
       "    </tr>\n",
       "    <tr>\n",
       "      <th>2996</th>\n",
       "      <td>allen-p/sent/765.</td>\n",
       "      <td>...</td>\n",
       "      <td>Randy, Can you send me a schedule of the salar...</td>\n",
       "    </tr>\n",
       "    <tr>\n",
       "      <th>2997</th>\n",
       "      <td>allen-p/sent/766.</td>\n",
       "      <td>...</td>\n",
       "      <td>Let's shoot for Tuesday at 11:45.</td>\n",
       "    </tr>\n",
       "    <tr>\n",
       "      <th>2998</th>\n",
       "      <td>allen-p/sent/767.</td>\n",
       "      <td>...</td>\n",
       "      <td>Greg, How about either next Tuesday or Thursda...</td>\n",
       "    </tr>\n",
       "    <tr>\n",
       "      <th>2999</th>\n",
       "      <td>allen-p/sent/768.</td>\n",
       "      <td>...</td>\n",
       "      <td>Please cc the following distribution list with...</td>\n",
       "    </tr>\n",
       "  </tbody>\n",
       "</table>\n",
       "<p>5 rows × 17 columns</p>\n",
       "</div>"
      ],
      "text/plain": [
       "                   file  ...  \\\n",
       "2995   allen-p/sent/76.  ...   \n",
       "2996  allen-p/sent/765.  ...   \n",
       "2997  allen-p/sent/766.  ...   \n",
       "2998  allen-p/sent/767.  ...   \n",
       "2999  allen-p/sent/768.  ...   \n",
       "\n",
       "                                                   Body  \n",
       "2995  ---------------------- Forwarded by Phillip K ...  \n",
       "2996  Randy, Can you send me a schedule of the salar...  \n",
       "2997                Let's shoot for Tuesday at 11:45.    \n",
       "2998  Greg, How about either next Tuesday or Thursda...  \n",
       "2999  Please cc the following distribution list with...  \n",
       "\n",
       "[5 rows x 17 columns]"
      ]
     },
     "execution_count": 146,
     "metadata": {},
     "output_type": "execute_result"
    }
   ],
   "source": [
    "new_df.tail(5)"
   ]
  },
  {
   "cell_type": "code",
   "execution_count": 148,
   "metadata": {},
   "outputs": [
    {
     "name": "stdout",
     "output_type": "stream",
     "text": [
      "Collecting nltk\n",
      "  Downloading nltk-3.4.5.zip (1.5 MB)\n",
      "Requirement already satisfied: six in c:\\users\\formation\\anaconda3\\envs\\mongodb\\lib\\site-packages (from nltk) (1.14.0)\n",
      "Building wheels for collected packages: nltk\n",
      "  Building wheel for nltk (setup.py): started\n",
      "  Building wheel for nltk (setup.py): finished with status 'done'\n",
      "  Created wheel for nltk: filename=nltk-3.4.5-py3-none-any.whl size=1449911 sha256=02c707349dea71cef8fec43612584f583b0042741b69aee3b5fe99b44183d049\n",
      "  Stored in directory: c:\\users\\formation\\appdata\\local\\pip\\cache\\wheels\\48\\8b\\7f\\473521e0c731c6566d631b281f323842bbda9bd819eb9a3ead\n",
      "Successfully built nltk\n",
      "Installing collected packages: nltk\n",
      "Successfully installed nltk-3.4.5\n"
     ]
    }
   ],
   "source": [
    "!pip install nltk\n"
   ]
  },
  {
   "cell_type": "code",
   "execution_count": 149,
   "metadata": {},
   "outputs": [],
   "source": [
    "#import libraries for nlp\n",
    "from nltk import word_tokenize\n"
   ]
  },
  {
   "cell_type": "code",
   "execution_count": 150,
   "metadata": {},
   "outputs": [
    {
     "data": {
      "text/plain": [
       "'Here is our forecast '"
      ]
     },
     "execution_count": 150,
     "metadata": {},
     "output_type": "execute_result"
    }
   ],
   "source": [
    "new_df['Body'][0]"
   ]
  },
  {
   "cell_type": "code",
   "execution_count": 151,
   "metadata": {},
   "outputs": [],
   "source": [
    "firt_row = new_df['Body'][0]"
   ]
  },
  {
   "cell_type": "code",
   "execution_count": 152,
   "metadata": {},
   "outputs": [
    {
     "data": {
      "text/plain": [
       "['Here', 'is', 'our', 'forecast']"
      ]
     },
     "execution_count": 152,
     "metadata": {},
     "output_type": "execute_result"
    }
   ],
   "source": [
    "firt_row.split()"
   ]
  },
  {
   "cell_type": "code",
   "execution_count": 173,
   "metadata": {},
   "outputs": [],
   "source": [
    "df_exped = new_df.groupby('From')"
   ]
  },
  {
   "cell_type": "code",
   "execution_count": 175,
   "metadata": {},
   "outputs": [
    {
     "data": {
      "text/plain": [
       "0        phillip.allen@enron.com\n",
       "1        phillip.allen@enron.com\n",
       "2        phillip.allen@enron.com\n",
       "3        phillip.allen@enron.com\n",
       "4        phillip.allen@enron.com\n",
       "                  ...           \n",
       "2120          k..allen@enron.com\n",
       "2121          k..allen@enron.com\n",
       "2122          k..allen@enron.com\n",
       "2123          k..allen@enron.com\n",
       "2369        pam.butler@enron.com\n",
       "Name: From, Length: 431, dtype: object"
      ]
     },
     "execution_count": 175,
     "metadata": {},
     "output_type": "execute_result"
    }
   ],
   "source": [
    "df_exped.From.head(5)"
   ]
  },
  {
   "cell_type": "code",
   "execution_count": 153,
   "metadata": {
    "scrolled": true
   },
   "outputs": [
    {
     "name": "stderr",
     "output_type": "stream",
     "text": [
      "C:\\Users\\Formation\\Anaconda3\\envs\\mongodb\\lib\\site-packages\\ipykernel_launcher.py:1: SettingWithCopyWarning: \n",
      "A value is trying to be set on a copy of a slice from a DataFrame.\n",
      "Try using .loc[row_indexer,col_indexer] = value instead\n",
      "\n",
      "See the caveats in the documentation: https://pandas.pydata.org/pandas-docs/stable/user_guide/indexing.html#returning-a-view-versus-a-copy\n",
      "  \"\"\"Entry point for launching an IPython kernel.\n"
     ]
    }
   ],
   "source": [
    "#make a new colum with the content of mail splitted\n",
    "new_df['Body_split']= new_df['Boder '].str.split()"
   ]
  },
  {
   "cell_type": "code",
   "execution_count": 156,
   "metadata": {},
   "outputs": [
    {
     "data": {
      "text/plain": [
       "0                            [Here, is, our, forecast]\n",
       "1    [Traveling, to, have, a, business, meeting, ta...\n",
       "2                  [test, successful., way, to, go!!!]\n",
       "3    [Randy,, Can, you, send, me, a, schedule, of, ...\n",
       "4             [Let's, shoot, for, Tuesday, at, 11:45.]\n",
       "Name: Body_split, dtype: object"
      ]
     },
     "execution_count": 156,
     "metadata": {},
     "output_type": "execute_result"
    }
   ],
   "source": [
    "new_df['Body_split'].head(5)"
   ]
  },
  {
   "cell_type": "code",
   "execution_count": 157,
   "metadata": {},
   "outputs": [
    {
     "data": {
      "text/plain": [
       "Index(['file', 'Message-ID', 'Date', 'From', 'To', 'Subject', 'Mime-Version',\n",
       "       'Content-Type', 'Content-Transfer-Encoding', 'X-From', 'X-To', 'X-cc',\n",
       "       'X-bcc', 'X-Folder', 'X-Origin', 'X-FileName', 'Body', 'Body_split'],\n",
       "      dtype='object')"
      ]
     },
     "execution_count": 157,
     "metadata": {},
     "output_type": "execute_result"
    }
   ],
   "source": [
    "new_df.columns"
   ]
  },
  {
   "cell_type": "code",
   "execution_count": 171,
   "metadata": {},
   "outputs": [
    {
     "data": {
      "text/html": [
       "<div>\n",
       "<style scoped>\n",
       "    .dataframe tbody tr th:only-of-type {\n",
       "        vertical-align: middle;\n",
       "    }\n",
       "\n",
       "    .dataframe tbody tr th {\n",
       "        vertical-align: top;\n",
       "    }\n",
       "\n",
       "    .dataframe thead th {\n",
       "        text-align: right;\n",
       "    }\n",
       "</style>\n",
       "<table border=\"1\" class=\"dataframe\">\n",
       "  <thead>\n",
       "    <tr style=\"text-align: right;\">\n",
       "      <th></th>\n",
       "      <th>file</th>\n",
       "      <th>...</th>\n",
       "      <th>Body_split</th>\n",
       "    </tr>\n",
       "    <tr>\n",
       "      <th>From</th>\n",
       "      <th></th>\n",
       "      <th></th>\n",
       "      <th></th>\n",
       "    </tr>\n",
       "  </thead>\n",
       "  <tbody>\n",
       "    <tr>\n",
       "      <th>1.11913372.-2@multexinvestornetwork.com</th>\n",
       "      <td>3</td>\n",
       "      <td>...</td>\n",
       "      <td>3</td>\n",
       "    </tr>\n",
       "    <tr>\n",
       "      <th>adrianne.engler@enron.com</th>\n",
       "      <td>6</td>\n",
       "      <td>...</td>\n",
       "      <td>6</td>\n",
       "    </tr>\n",
       "    <tr>\n",
       "      <th>al.pollard@newpower.com</th>\n",
       "      <td>1</td>\n",
       "      <td>...</td>\n",
       "      <td>1</td>\n",
       "    </tr>\n",
       "    <tr>\n",
       "      <th>alyse.herasimchuk@enron.com</th>\n",
       "      <td>3</td>\n",
       "      <td>...</td>\n",
       "      <td>3</td>\n",
       "    </tr>\n",
       "    <tr>\n",
       "      <th>anchordesk_daily@anchordesk.zdlists.com</th>\n",
       "      <td>20</td>\n",
       "      <td>...</td>\n",
       "      <td>20</td>\n",
       "    </tr>\n",
       "  </tbody>\n",
       "</table>\n",
       "<p>5 rows × 17 columns</p>\n",
       "</div>"
      ],
      "text/plain": [
       "                                          file  ...  Body_split\n",
       "From                                            ...            \n",
       " 1.11913372.-2@multexinvestornetwork.com     3  ...           3\n",
       " adrianne.engler@enron.com                   6  ...           6\n",
       " al.pollard@newpower.com                     1  ...           1\n",
       " alyse.herasimchuk@enron.com                 3  ...           3\n",
       " anchordesk_daily@anchordesk.zdlists.com    20  ...          20\n",
       "\n",
       "[5 rows x 17 columns]"
      ]
     },
     "execution_count": 171,
     "metadata": {},
     "output_type": "execute_result"
    }
   ],
   "source": [
    "#grouper par expediteur\n",
    "df_expe= new_df.groupby(['From']).count()\n",
    "df_expe.head(5)"
   ]
  },
  {
   "cell_type": "markdown",
   "metadata": {},
   "source": [
    "## refait à l'envers en faisant d'abord le regroupement par mail"
   ]
  },
  {
   "cell_type": "code",
   "execution_count": 177,
   "metadata": {},
   "outputs": [],
   "source": [
    "from collections import Counter"
   ]
  },
  {
   "cell_type": "code",
   "execution_count": 178,
   "metadata": {},
   "outputs": [
    {
     "data": {
      "text/plain": [
       "Index(['file', 'Message-ID', 'Date', 'From', 'To', 'Subject', 'Mime-Version',\n",
       "       'Content-Type', 'Content-Transfer-Encoding', 'X-From', 'X-To', 'X-cc',\n",
       "       'X-bcc', 'X-Folder', 'X-Origin', 'X-FileName', 'Body', 'Body_split'],\n",
       "      dtype='object')"
      ]
     },
     "execution_count": 178,
     "metadata": {},
     "output_type": "execute_result"
    }
   ],
   "source": [
    "new_df.columns"
   ]
  },
  {
   "cell_type": "code",
   "execution_count": 179,
   "metadata": {},
   "outputs": [
    {
     "name": "stderr",
     "output_type": "stream",
     "text": [
      "C:\\Users\\Formation\\Anaconda3\\envs\\mongodb\\lib\\site-packages\\pandas\\core\\frame.py:3997: SettingWithCopyWarning: \n",
      "A value is trying to be set on a copy of a slice from a DataFrame\n",
      "\n",
      "See the caveats in the documentation: https://pandas.pydata.org/pandas-docs/stable/user_guide/indexing.html#returning-a-view-versus-a-copy\n",
      "  errors=errors,\n"
     ]
    }
   ],
   "source": [
    "new_df.drop(['Body_split'], axis=1, inplace=True)"
   ]
  },
  {
   "cell_type": "code",
   "execution_count": 181,
   "metadata": {
    "collapsed": true
   },
   "outputs": [
    {
     "data": {
      "text/plain": [
       "Index(['file', 'Message-ID', 'Date', 'From', 'To', 'Subject', 'Mime-Version',\n",
       "       'Content-Type', 'Content-Transfer-Encoding', 'X-From', 'X-To', 'X-cc',\n",
       "       'X-bcc', 'X-Folder', 'X-Origin', 'X-FileName', 'Body'],\n",
       "      dtype='object')"
      ]
     },
     "execution_count": 181,
     "metadata": {},
     "output_type": "execute_result"
    }
   ],
   "source": [
    "new_df.columns"
   ]
  },
  {
   "cell_type": "code",
   "execution_count": 187,
   "metadata": {},
   "outputs": [],
   "source": [
    "#new table with all words on emails joined\n",
    "g=new_df.groupby('From')['Body'].agg(all_email = lambda x:''.join(x))"
   ]
  },
  {
   "cell_type": "code",
   "execution_count": 188,
   "metadata": {},
   "outputs": [
    {
     "name": "stdout",
     "output_type": "stream",
     "text": [
      "                                                                                  all_email\n",
      "From                                                                                       \n",
      " 1.11913372.-2@multexinvestornetwork.com  In today's Daily Update you'll find free repor...\n",
      " adrianne.engler@enron.com                Hi Phillip and Mike!Phillip/Mike - Phillip/Mik...\n",
      " al.pollard@newpower.com                  What is going on down the street?  Curious to ...\n",
      " alyse.herasimchuk@enron.com               Dear Associate / Analyst Committee:The follow...\n",
      " anchordesk_daily@anchordesk.zdlists.com  _____________________DAVID COURSEY____________...\n",
      "...                                                                                     ...\n",
      " winnerannouncements@info.iwon.com                                                         \n",
      " wise.counsel@lpl.com                     Greetings Phillip,I received your phone messag...\n",
      " yahoo-delivers@yahoo-inc.com             [IMAGE]masthead=09 Yahoo!=20May 2001New Featur...\n",
      " yevgeny.frolov@enron.com                 As discussed early today we hereby notify Acce...\n",
      " yild@zdemail.zdlists.com                 Y-Life Daily Bulletin: December 13, 2000Note: ...\n",
      "\n",
      "[182 rows x 1 columns]\n"
     ]
    }
   ],
   "source": [
    "#print(g)"
   ]
  },
  {
   "cell_type": "code",
   "execution_count": 189,
   "metadata": {},
   "outputs": [],
   "source": [
    "#split the words \n",
    "body_splitted= g['all_email'].str.split()"
   ]
  },
  {
   "cell_type": "code",
   "execution_count": 190,
   "metadata": {
    "collapsed": true
   },
   "outputs": [
    {
     "name": "stdout",
     "output_type": "stream",
     "text": [
      "From\n",
      " 1.11913372.-2@multexinvestornetwork.com    [In, today's, Daily, Update, you'll, find, fre...\n",
      " adrianne.engler@enron.com                  [Hi, Phillip, and, Mike!Phillip/Mike, -, Phill...\n",
      " al.pollard@newpower.com                    [What, is, going, on, down, the, street?, Curi...\n",
      " alyse.herasimchuk@enron.com                [Dear, Associate, /, Analyst, Committee:The, f...\n",
      " anchordesk_daily@anchordesk.zdlists.com    [_____________________DAVID, COURSEY__________...\n",
      "                                                                  ...                        \n",
      " winnerannouncements@info.iwon.com                                                         []\n",
      " wise.counsel@lpl.com                       [Greetings, Phillip,I, received, your, phone, ...\n",
      " yahoo-delivers@yahoo-inc.com               [[IMAGE]masthead=09, Yahoo!=20May, 2001New, Fe...\n",
      " yevgeny.frolov@enron.com                   [As, discussed, early, today, we, hereby, noti...\n",
      " yild@zdemail.zdlists.com                   [Y-Life, Daily, Bulletin:, December, 13,, 2000...\n",
      "Name: all_email, Length: 182, dtype: object\n"
     ]
    }
   ],
   "source": [
    "print(body_splitted)"
   ]
  },
  {
   "cell_type": "code",
   "execution_count": 194,
   "metadata": {},
   "outputs": [],
   "source": [
    "#dictionnaire avec les mots les plus fréquents utilisés pour chaque email\n",
    "word_freq={}\n",
    "for exp in g.index:\n",
    "    word_freq['%s'%exp]=Counter(body_splitted[exp]).most_common(3)"
   ]
  },
  {
   "cell_type": "code",
   "execution_count": 195,
   "metadata": {},
   "outputs": [
    {
     "data": {
      "text/plain": [
       "{' 1.11913372.-2@multexinvestornetwork.com': [('to', 24),\n",
       "  ('the', 24),\n",
       "  ('of', 21)],\n",
       " ' adrianne.engler@enron.com': [('Phillip', 2), ('-', 2), ('Hi', 1)],\n",
       " ' al.pollard@newpower.com': [('you', 3), ('is', 2), ('going', 2)],\n",
       " ' alyse.herasimchuk@enron.com': [('/', 6), ('Analyst', 6), ('Dear', 3)],\n",
       " ' anchordesk_daily@anchordesk.zdlists.com': [('the', 81),\n",
       "  ('to', 70),\n",
       "  ('a', 45)],\n",
       " ' announce@inbox.nytimes.com': [('the', 45), ('a', 18), ('and', 15)],\n",
       " ' announcements.enron@enron.com': [('and', 8), ('to', 7), ('the', 6)],\n",
       " ' annualconference@prosrm.com': [('of', 14), ('and', 13), ('to', 12)],\n",
       " ' aod@newsdata.com': [('a', 16), ('this', 12), ('----', 10)],\n",
       " ' apkpcp@prodigy.net': [('give', 1), ('me', 1), ('your', 1)],\n",
       " ' arsystem@mailman.enron.com': [('this', 42), ('Please', 38), ('click', 38)],\n",
       " ' ashley.worthing@enron.com': [('report', 2), ('named:', 2), ('West', 2)],\n",
       " ' biliana.pehlivanova@enron.com': [('desk', 2), ('There', 1), ('are', 1)],\n",
       " ' billc@greenbuilder.com': [('other', 2), ('cool', 2), ('newsgroups', 2)],\n",
       " ' bmg_support@adm.chtah.com': [('[IMAGE]', 1)],\n",
       " ' bobregon@bga.com': [('AllWe', 2), ('are', 2), ('looking', 2)],\n",
       " ' bodyshop@enron.com': [('the', 6), ('ID', 5), ('to', 5)],\n",
       " ' book-news@amazon.com': [('Please', 1), ('note', 1), ('that', 1)],\n",
       " ' bounce-news-932653@lists.autoweb.com': [('the', 15),\n",
       "  ('HREF=', 15),\n",
       "  ('of', 12)],\n",
       " ' brad.jones@enron.com': [('Attached', 1), ('is', 1), ('the', 1)],\n",
       " ' c..aucoin@enron.com': [(\"KirkI've\", 1), ('added', 1), ('my', 1)],\n",
       " ' c..gossett@enron.com': [('middle', 2), ('market', 2), ('orig.', 2)],\n",
       " ' calxa@aol.com': [('the', 10), ('site', 4), ('of', 4)],\n",
       " ' capcon@gmu.edu': [('Capitol', 3), ('Connection', 3), ('to', 2)],\n",
       " ' carole.frank@enron.com': [('The', 1), ('report', 1), ('named:', 1)],\n",
       " ' cbpres@austin.rr.com': [('excuse', 3), ('my', 3), ('oversight', 3)],\n",
       " ' cbssportsline.com_planters@mail.0mm.com': [],\n",
       " ' chad.landry@enron.com': [('you', 3), ('i', 3), ('could', 3)],\n",
       " ' chairman.office@enron.com': [('the', 6), ('and', 4), ('to', 4)],\n",
       " ' christi.nicolay@enron.com': [('the', 12), ('points', 9), ('I', 6)],\n",
       " ' clickathome@enron.com': [('TD{FONT-SIZE:', 1), ('10pt;', 1), ('COLOR:', 1)],\n",
       " ' cpa@oihost.net': [('index6', 1), ('[IMAGE]', 1)],\n",
       " ' cpa@opthome.com': [],\n",
       " ' cpa@optmails.com': [('credit', 5), ('you', 4), ('your', 4)],\n",
       " ' critical.notice@enron.com': [('Dec', 51), ('2000', 51), ('the', 36)],\n",
       " ' customer_service@pmail.feer.com': [('[IMAGE]', 2)],\n",
       " ' customerservice@chaseplatinum.po-1.com': [('for', 3),\n",
       "  ('to', 3),\n",
       "  ('your', 3)],\n",
       " ' customerservice@tdwaterhouse.com': [],\n",
       " ' d1131c2e-3c2c-40c2-bb3b-685d6a0d2700@autotoolbox.net': [],\n",
       " ' david.oxley@enron.com': [('the', 68), ('of', 53), ('is', 23)],\n",
       " ' david.port@enron.com': [('-----Original', 2),\n",
       "  ('Phillip', 1),\n",
       "  ('Message-----', 1)],\n",
       " ' davidsmith@open2win.oi3.net': [('Life', 1),\n",
       "  ('Insurance', 1),\n",
       "  ('Banner', 1)],\n",
       " ' deanrodgers@kaseco.com': [('and', 7), ('to', 6), ('as', 3)],\n",
       " ' delivers@amazon.com': [('[IMAGE]', 1)],\n",
       " ' discount@open2win.oi3.net': [('This', 1), ('message', 1), ('was', 1)],\n",
       " ' dleduca714@yahoo.com': [('and', 5), ('TO', 4), ('you', 4)],\n",
       " ' dmallory@ftenergy.com': [],\n",
       " ' e-mail.center@wsj.com': [('to', 21), ('this', 21), ('from', 20)],\n",
       " ' edelivery@salomonsmithbarney.com': [('your', 65),\n",
       "  ('Smith', 41),\n",
       "  ('Barney', 41)],\n",
       " ' editor@hersweeps.com': [],\n",
       " ' editor@theb2bvoice.com': [('to', 5), ('in', 4), ('on', 4)],\n",
       " ' ei_editor@ftenergy.com': [('Energy', 18), ('Insight', 12), ('Close', 12)],\n",
       " ' ei_editor@platts.com': [('=20', 1), ('=20=20', 1)],\n",
       " ' enron_update@concureworkplace.com': [('for', 13),\n",
       "  ('following', 8),\n",
       "  ('reports', 5)],\n",
       " ' eservices@tdwaterhouse.com': [],\n",
       " ' exchange.administrator@enron.com': [('we', 9), ('I', 8), ('the', 7)],\n",
       " ' exclusive_ofers@sportsline.com': [],\n",
       " ' exclusive_offers@sportsline.com': [('<tr><td', 3),\n",
       "  ('width=\"12\"', 3),\n",
       "  ('bgcolor=\"#FF0000\"><spacer', 3)],\n",
       " ' frank.hayden@enron.com': [('the', 5), ('on', 4), ('to', 4)],\n",
       " ' geninfo@state-bank.com': [('your', 14), ('you', 12), ('and', 11)],\n",
       " ' gift@amazon.com': [],\n",
       " ' gifts@info.iwon.com': [('[IMAGE]', 1)],\n",
       " ' gousa6179@hotmail.kg': [('and', 16), ('the', 14), ('of', 11)],\n",
       " ' greg.whalley@enron.com': [('and', 8), ('the', 8), ('to', 6)],\n",
       " ' grensheltr@aol.com': [('a', 4), ('I', 4), ('the', 3)],\n",
       " ' gthorse@about-cis.com': [('$', 8), ('you', 5), ('the', 4)],\n",
       " ' gthorse@keyad.com': [('I', 11), ('to', 7), ('the', 6)],\n",
       " ' heather.dunton@enron.com': [('the', 8), ('to', 4), ('you', 2)],\n",
       " ' hunter.williams@grandecom.com': [('the', 2),\n",
       "  ('Greg/Phillip,Attached', 1),\n",
       "  ('is', 1)],\n",
       " ' important_phone_call@response.etracks.com': [],\n",
       " ' ina.rangel@enron.com': [('and', 19), ('for', 17), ('Review', 12)],\n",
       " ' info@open2win.roi1.net': [('[IMAGE]This', 1), ('message', 1), ('was', 1)],\n",
       " ' infousa4492@telkom.net': [('and', 15), ('the', 13), ('of', 11)],\n",
       " ' itsimazing@response.etracks.com': [('[IMAGE][IMAGE]', 1), ('[IMAGE]', 1)],\n",
       " ' iwon@info.iwon.com': [],\n",
       " ' james.bruce@enron.com': [('the', 6), ('of', 5), ('is', 5)],\n",
       " ' jeff.richter@enron.com': [('the', 4), ('is', 4), ('and', 3)],\n",
       " ' jeshett@yahoo.com': [('100', 6), ('nov', 6), ('gas', 6)],\n",
       " ' jfreeman@ssm.net': [('Hemp', 4), ('issue', 4), ('#7', 4)],\n",
       " ' joannie.williamson@enron.com': [('the', 3), ('Meeting', 2), ('October', 2)],\n",
       " ' john.lavorato@enron.com': [('the', 5), ('to', 4), ('we', 4)],\n",
       " ' jsmith@austintx.com': [('the', 6), ('TO', 6), ('I', 5)],\n",
       " ' jwills3@swbell.net': [('the', 9), ('and', 8), ('to', 7)],\n",
       " ' k..allen@enron.com': [('the', 1197), ('to', 792), ('and', 455)],\n",
       " ' kam.keiser@enron.com': [('the', 6), ('to', 6), ('you', 5)],\n",
       " ' karen.buckley@enron.com': [('to', 12), ('the', 9), ('and', 7)],\n",
       " ' kathie.grabstald@enron.com': [('your', 5), ('to', 4), ('submit', 3)],\n",
       " ' kathryn.sheppard@enron.com': [('Dial', 4), ('In', 4), ('Number:', 4)],\n",
       " ' katrina_sumey@platts.com': [('NEWGen', 2), ('This', 1), ('is', 1)],\n",
       " ' keith.holst@enron.com': [('-----Original', 4),\n",
       "  ('Message-----', 2),\n",
       "  ('Message-----Too', 1)],\n",
       " ' ken.shulklapper@enron.com': [('of', 21), ('the', 20), ('to', 14)],\n",
       " ' kim.ward@enron.com': [('give', 3), ('me', 3), ('a', 3)],\n",
       " ' kirk.mcdaniel@enron.com': [('the', 67), ('to', 40), ('and', 27)],\n",
       " ' ksumey@ftenergy.com': [('NEWGen', 2), ('This', 1), ('email', 1)],\n",
       " ' laura.a.de.la.torre@accenture.com': [('you', 4), ('message', 2), ('is', 2)],\n",
       " ' leanne@integrityrs.com': [('CriteriaJoe', 1),\n",
       "  ('Linsalata', 1),\n",
       "  ('(512)', 1)],\n",
       " ' leave-htmlnews-2508405s@lists.autoweb.com': [],\n",
       " ' lindsay.renaud@enron.com': [('you', 4), ('of', 3), ('the', 3)],\n",
       " ' lisa.jacobson@enron.com': [('to', 15), ('the', 9), ('you', 9)],\n",
       " ' lisa@techxans.org': [('(', 8), (')>>', 8), ('Co-Host', 7)],\n",
       " ' listservices@open2win.1ll0.net': [('[IMAGE]', 1)],\n",
       " ' louise.kitchen@enron.com': [('the', 19), ('to', 18), ('we', 10)],\n",
       " ' m..tholt@enron.com': [('the', 10), ('on', 8), ('of', 7)],\n",
       " ' mac.d.hargrove@rssmb.com': [('the', 1), ('dallas', 1), ('seminar', 1)],\n",
       " ' mark.whitt@enron.com': [('to', 7), ('and', 4), ('the', 4)],\n",
       " ' market-reply@listserv.dowjones.com': [('to', 12), ('you', 9), ('from', 6)],\n",
       " ' matt@fastpacket.net': [('>', 1), ('Hi,>', 1), ('Hi,', 1)],\n",
       " ' melissaspears@open2win.oi3.net': [],\n",
       " ' members@realmoney.com': [('to', 14), ('you', 14), ('the', 9)],\n",
       " ' mery.l.brown@accenture.com': [('for', 17), ('you', 16), ('to', 13)],\n",
       " ' messenger@ecm.bloomberg.com': [('(Bloomberg', 36),\n",
       "  ('Energy)', 36),\n",
       "  ('--', 36)],\n",
       " ' michelle.akers@enron.com': [('information', 6),\n",
       "  ('confidential', 6),\n",
       "  ('be', 4)],\n",
       " ' mike.grigsby@enron.com': [('to', 25), ('the', 23), ('will', 11)],\n",
       " ' mondohed@gte.net': [],\n",
       " ' monica.l.brown@accenture.com': [('message', 6), ('is', 6), ('you', 6)],\n",
       " ' morpheus@inyouremail.com': [],\n",
       " ' msimpkins@winstead.com': [('the', 11), ('L.', 7), ('to', 7)],\n",
       " ' networkcommerce-tdcd20011221@ombramarketing.com': [('[IMAGE]', 1)],\n",
       " ' networkcommerce-tdsd20011228@ombramarketing.com': [('[IMAGE]', 1)],\n",
       " ' networkcommerce-tdtl20011226@ombramarketing.com': [('[IMAGE]', 1)],\n",
       " ' news@prosrm.com': [('and', 19), ('the', 18), ('of', 16)],\n",
       " ' newsletter@pussylickingcunts.com': [('<HTML>', 1)],\n",
       " ' no.address@enron.com': [('the', 130), ('to', 100), ('and', 76)],\n",
       " ' noreply@ccomad3.uu.commissioner.com': [('-', 2),\n",
       "  ('Presented', 2),\n",
       "  ('by', 2)],\n",
       " ' online.service@schwab.com': [],\n",
       " ' open2win.0ll1.net@mailman.enron.com': [],\n",
       " ' oportunity@cells4free.com': [('<!--To', 1), ('put', 1), ('this', 1)],\n",
       " ' outlook-migration-team@enron.com': [('loan', 1),\n",
       "  ('servicing-jessica', 1),\n",
       "  ('weeber', 1)],\n",
       " ' owner-strawbale@crest.org': [('a', 4), ('of', 4), ('good', 3)],\n",
       " ' pallen70@hotmail.com': [('MSN', 3), ('your', 2), ('FREE', 2)],\n",
       " ' pam.butler@enron.com': [('-----Original', 1),\n",
       "  ('Appointment-----Attendees:', 1),\n",
       "  ('Pam', 1)],\n",
       " ' patti.sullivan@enron.com': [('The', 1), ('prebid', 1), ('meeting', 1)],\n",
       " ' paul.kaufman@enron.com': [('a', 6), ('the', 6), ('are', 6)],\n",
       " ' perfmgmt@enron.com': [('PHILLIP', 3), ('K,ALLEN,', 2), ('ALLEN,', 1)],\n",
       " ' philip.polsky@enron.com': [('you', 4), ('let', 4), ('me', 4)],\n",
       " ' phillip.allen@enron.com': [('the', 3096), ('to', 2016), ('on', 1553)],\n",
       " ' postmaster@glmail2.networkpromotion.com': [('[IMAGE][IMAGE][IMAGE][IMAGE]',\n",
       "   1)],\n",
       " ' prizemachine@feedback.iwon.com': [],\n",
       " ' promo@info.iwon.com': [],\n",
       " ' public.relations@enron.com': [('Ken', 3), ('Lay', 3), ('and', 3)],\n",
       " ' randy.bhatia@enron.com': [('move', 3), ('into', 2), ('is', 2)],\n",
       " ' ray.alvarez@enron.com': [('the', 17), ('to', 13), ('of', 10)],\n",
       " ' rebecca.cantrell@enron.com': [('the', 9), ('are', 6), ('prices', 6)],\n",
       " ' renee.ratcliff@enron.com': [('the', 32), ('to', 14), ('and', 10)],\n",
       " ' resources.human@enron.com': [('the', 3), ('Enron', 3), ('and', 2)],\n",
       " ' richard.hash@openspirit.com': [('have', 2), ('you', 2), ('or', 2)],\n",
       " ' richard.morgan@austinenergy.com': [('a', 2), ('you', 2), ('with', 2)],\n",
       " ' richard.shapiro@enron.com': [('to', 6), ('in', 4), ('be', 4)],\n",
       " ' rick.bellows@enron.com': [('How', 1), ('are', 1), ('you', 1)],\n",
       " ' rob_tom@freenet.carleton.ca': [('to', 8), ('am', 4), ('that', 4)],\n",
       " \" ryan.o'rourke@enron.com\": [('is', 4), ('of', 4), ('the', 4)],\n",
       " ' sarah.novosel@enron.com': [('the', 10), ('to', 7), ('review', 5)],\n",
       " ' savita.puthigai@enron.com': [('the', 11), ('on', 7), ('will', 5)],\n",
       " ' sheri.a.righi@accenture.com': [('the', 12), ('for', 8), ('and', 5)],\n",
       " ' showtimes@amazon.com': [('[IMAGE]', 1), ('Amazon.com:', 1), ('Weekly', 1)],\n",
       " ' software@mail01.unitedmarketingstrategies.com': [('to', 2),\n",
       "  ('free', 2),\n",
       "  ('the', 2)],\n",
       " ' software@mail02.unitedmarketingstrategies.com': [('to', 2),\n",
       "  ('free', 2),\n",
       "  ('the', 2)],\n",
       " ' sprint@info.iwon.com': [],\n",
       " ' stephanie.miller@enron.com': [('to', 6), ('Any', 2), ('merit', 2)],\n",
       " ' stephanie.sever@enron.com': [('populate', 4), ('the', 4), ('for', 4)],\n",
       " ' steven.matthews@ubspainewebber.com': [('you', 2),\n",
       "  ('Phillip,I', 1),\n",
       "  ('hope', 1)],\n",
       " ' steven.matthews@ubspw.com': [('the', 2), ('This', 1), ('is', 1)],\n",
       " ' store-news@amazon.com': [],\n",
       " ' subscriptions@intelligencepress.com': [('you', 30),\n",
       "  ('your', 20),\n",
       "  ('Intelligence', 20)],\n",
       " ' technology.enron@enron.com': [('your', 5), ('the', 5), ('to', 3)],\n",
       " ' tiffany.miller@enron.com': [('you', 3), ('please', 3), ('review', 3)],\n",
       " ' tim.belden@enron.com': [('----------------------', 3),\n",
       "  ('Forwarded', 3),\n",
       "  ('by', 3)],\n",
       " ' tim.heizenrader@enron.com': [('on', 9), ('of', 9), ('-', 6)],\n",
       " \" tim.o'rourke@enron.com\": [('you', 3), ('the', 3), ('have', 3)],\n",
       " ' tracy.arthur@enron.com': [('Associate', 3),\n",
       "  ('OrientationPlease', 3),\n",
       "  ('confirm', 3)],\n",
       " ' txreport@skippingstone.com': [],\n",
       " ' unsubscribe-i@networkpromotion.com': [('[IMAGE][IMAGE][IMAGE][IMAGE]', 1)],\n",
       " ' usatoday1430@hotmail.kg': [('and', 16), ('the', 14), ('of', 11)],\n",
       " ' veronica.espinoza@enron.com': [('at', 6), ('is', 3), ('a', 3)],\n",
       " ' vivatrim@open2win.roi1.net': [('[IMAGE]', 1), ('This', 1), ('message', 1)],\n",
       " ' w..cantrell@enron.com': [('the', 9), ('of', 7), ('as', 5)],\n",
       " ' webmaster@earnings.com': [('you', 27), ('cannot', 27), ('read', 27)],\n",
       " ' winnerannouncements@info.iwon.com': [],\n",
       " ' wise.counsel@lpl.com': [('the', 11), ('you', 8), ('I', 5)],\n",
       " ' yahoo-delivers@yahoo-inc.com': [('and', 6), ('for', 6), ('to', 6)],\n",
       " ' yevgeny.frolov@enron.com': [('to', 16), ('the', 12), ('will', 11)],\n",
       " ' yild@zdemail.zdlists.com': [('----', 30), ('THE', 21), ('OF', 12)]}"
      ]
     },
     "execution_count": 195,
     "metadata": {},
     "output_type": "execute_result"
    }
   ],
   "source": [
    "word_freq"
   ]
  },
  {
   "cell_type": "code",
   "execution_count": null,
   "metadata": {},
   "outputs": [],
   "source": []
  }
 ],
 "metadata": {
  "kernelspec": {
   "display_name": "Python 3",
   "language": "python",
   "name": "python3"
  },
  "language_info": {
   "codemirror_mode": {
    "name": "ipython",
    "version": 3
   },
   "file_extension": ".py",
   "mimetype": "text/x-python",
   "name": "python",
   "nbconvert_exporter": "python",
   "pygments_lexer": "ipython3",
   "version": "3.7.7"
  }
 },
 "nbformat": 4,
 "nbformat_minor": 4
}
